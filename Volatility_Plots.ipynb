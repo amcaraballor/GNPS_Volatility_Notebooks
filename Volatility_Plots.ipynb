{
 "cells": [
  {
   "cell_type": "code",
   "execution_count": 34,
   "metadata": {},
   "outputs": [],
   "source": [
    "import requests\n",
    "import os\n",
    "import glob"
   ]
  },
  {
   "cell_type": "code",
   "execution_count": 35,
   "metadata": {},
   "outputs": [],
   "source": [
    "# Enter the TASK ID for a FBMN job\n",
    "\n",
    "GNPS_TASK = \"ea1c638c18f94a3d856eecc87d521394\"\n",
    "TIMELINE_AXIS = \"timepoint_hour\"\n",
    "INDIVIDUAL_COLUMN = \"subject_id\""
   ]
  },
  {
   "cell_type": "code",
   "execution_count": 28,
   "metadata": {},
   "outputs": [],
   "source": [
    "# Getting the Data\n",
    "\n",
    "def download_file(url, local_filename):\n",
    "    # NOTE the stream=True parameter below\n",
    "    with requests.get(url, stream=True) as r:\n",
    "        r.raise_for_status()\n",
    "        with open(local_filename, 'wb') as f:\n",
    "            for chunk in r.iter_content(chunk_size=8192): \n",
    "                # If you have chunk encoded response uncomment if\n",
    "                # and set chunk_size parameter to None.\n",
    "                #if chunk: \n",
    "                f.write(chunk)\n",
    "\n",
    "task_qza_url = \"https://gnps.ucsd.edu/ProteoSAFe/DownloadResultFile?task={}&block=main&file=qiime2_output/qiime2_table.qza\".format(GNPS_TASK)\n",
    "TABLE_QZA = \"qiime2_table.qza\"\n",
    "download_file(task_qza_url, TABLE_QZA)\n",
    "\n",
    "METADATA_TSV = \"metadata.tsv\"\n",
    "metadata_url =  \"https://gnps.ucsd.edu/ProteoSAFe/DownloadResultFile?task={}&block=main&file=qiime2_output/qiime2_metadata.tsv\".format(GNPS_TASK)\n",
    "download_file(metadata_url, METADATA_TSV)"
   ]
  },
  {
   "cell_type": "code",
   "execution_count": 20,
   "metadata": {},
   "outputs": [],
   "source": [
    "# OPTIONAL: Filtering through samples\n",
    "\n",
    "FILTERING_METADATA = \"filtered_metadata.tsv\"\n",
    "FILTERED_TABLE_QZA = \"qiime2_filtered_table.qza\"\n",
    "cmd = \"qiime feature-table filter-samples --i-table {} --m-metadata_file {} --o-filtered-table {}\".format(TABLE_QZA, FILTERING_METADATA, FILTERED_TABLE_QZA)\n",
    "print(cmd)\n",
    "os.system(cmd)\n",
    "TABLE_QZA = FILTERED_TABLE_QZA"
   ]
  },
  {
   "cell_type": "code",
   "execution_count": 21,
   "metadata": {},
   "outputs": [
    {
     "name": "stdout",
     "output_type": "stream",
     "text": [
      "qiime diversity beta --i-table qiime2_table.qza --p-metric braycurtis --o-distance-matrix sample_table_braycurtis.qza\n"
     ]
    },
    {
     "data": {
      "text/plain": [
       "0"
      ]
     },
     "execution_count": 21,
     "metadata": {},
     "output_type": "execute_result"
    }
   ],
   "source": [
    "# Calculating Beta diversity btwn samples —> .qza (PCoA, biplots, permanovas etc)\n",
    "\n",
    "DISTANCE_QZA = \"sample_table_braycurtis.qza\"\n",
    "cmd = \"qiime diversity beta --i-table {} --p-metric braycurtis --o-distance-matrix {}\".format(TABLE_QZA, DISTANCE_QZA)\n",
    "print(cmd)\n",
    "os.system(cmd)"
   ]
  },
  {
   "cell_type": "code",
   "execution_count": 22,
   "metadata": {},
   "outputs": [
    {
     "name": "stdout",
     "output_type": "stream",
     "text": [
      "qiime diversity pcoa --i-distance-matrix sample_table_braycurtis.qza --o-pcoa sample_pcoa.qza\n"
     ]
    },
    {
     "data": {
      "text/plain": [
       "0"
      ]
     },
     "execution_count": 22,
     "metadata": {},
     "output_type": "execute_result"
    }
   ],
   "source": [
    "# PCOA Calculation \n",
    "\n",
    "PCOA_QZA = \"sample_pcoa.qza\"\n",
    "cmd = \"qiime diversity pcoa --i-distance-matrix {} --o-pcoa {}\".format(DISTANCE_QZA, PCOA_QZA)\n",
    "\n",
    "print(cmd)\n",
    "os.system(cmd)\n"
   ]
  },
  {
   "cell_type": "code",
   "execution_count": 23,
   "metadata": {},
   "outputs": [
    {
     "name": "stdout",
     "output_type": "stream",
     "text": [
      "qiime emperor plot --i-pcoa sample_pcoa.qza --m-metadata-file metadata.tsv --output-dir sample_pcoa.qza\n"
     ]
    },
    {
     "data": {
      "text/plain": [
       "256"
      ]
     },
     "execution_count": 23,
     "metadata": {},
     "output_type": "execute_result"
    }
   ],
   "source": [
    "# Create PCoA visualisation\n",
    "\n",
    "EMPEROR_QZV = \"emperor.qzv\"\n",
    "cmd = \"qiime emperor plot --i-pcoa {} --m-metadata-file {} --output-dir {}\".format(PCOA_QZA, METADATA_TSV, EMPEROR_QZA)\n",
    "\n",
    "print(cmd)\n",
    "os.system(cmd)\n"
   ]
  },
  {
   "cell_type": "code",
   "execution_count": 29,
   "metadata": {},
   "outputs": [
    {
     "name": "stdout",
     "output_type": "stream",
     "text": [
      "qiime emperor plot --i-pcoa sample_pcoa.qza --m-metadata-file metadata.tsv --p-custom-axes timepoint_hour --output-dir emperor_timeline.qzv\n"
     ]
    },
    {
     "data": {
      "text/plain": [
       "256"
      ]
     },
     "execution_count": 29,
     "metadata": {},
     "output_type": "execute_result"
    }
   ],
   "source": [
    "# Create PCoA with Timeline axis visualisation\n",
    "\n",
    "EMPEROR_TIMELINE_QZV = \"emperor_timeline.qzv\"\n",
    "cmd = \"qiime emperor plot --i-pcoa {} --m-metadata-file {} --p-custom-axes {} --output-dir {}\".format(PCOA_QZA, METADATA_TSV, TIMELINE_AXIS, EMPEROR_TIMELINE_QZV)\n",
    "\n",
    "print(cmd)\n",
    "os.system(cmd)"
   ]
  },
  {
   "cell_type": "code",
   "execution_count": 33,
   "metadata": {},
   "outputs": [
    {
     "name": "stdout",
     "output_type": "stream",
     "text": [
      "qiime longitudinal feature-volatility --i-table qiime2_table.qza --m-metadata-file metadata.tsv --p-state-column timepoint_hour --p-individual-id-column subject_id --o-filtered-table volatile_filtered_table.qza --o-feature-importance volatile_importance.qza --o-volatility-plot volatile.qzv --o-accuracy-results volatile_accuracy.qzv --o-sample-estimator valatile_estimator.qza\n"
     ]
    },
    {
     "data": {
      "text/plain": [
       "256"
      ]
     },
     "execution_count": 33,
     "metadata": {},
     "output_type": "execute_result"
    }
   ],
   "source": [
    "# Create Volatility longitudinal plots (p-state-column is timeline column name, p-individual-id is subject id or other connected points)\n",
    "\n",
    "VOLATILE_FILTERED_QZA = \"volatile_filtered_table.qza\"\n",
    "VOLATILE_IMPORTANCE_QZA = \"volatile_importance.qza\"\n",
    "VOLATILITY_QZV = \"volatile.qzv\"\n",
    "VOLATILITY_ACCURACY_QZV = \"volatile_accuracy.qzv\"\n",
    "VOLATILITY_ESTIMATOR_QZA = \"valatile_estimator.qza\"\n",
    "cmd = \"qiime longitudinal feature-volatility --i-table {} \\\n",
    "--m-metadata-file {} \\\n",
    "--p-state-column {} \\\n",
    "--p-individual-id-column {} \\\n",
    "--o-filtered-table {} \\\n",
    "--o-feature-importance {} \\\n",
    "--o-volatility-plot {} \\\n",
    "--o-accuracy-results {} \\\n",
    "--o-sample-estimator {}\".format(TABLE_QZA, METADATA_TSV, TIMELINE_AXIS, INDIVIDUAL_COLUMN, VOLATILE_FILTERED_QZA, VOLATILE_IMPORTANCE_QZA, VOLATILITY_QZV, VOLATILITY_ACCURACY_QZV, VOLATILITY_ESTIMATOR_QZA)\n",
    "\n",
    "print(cmd)\n",
    "os.system(cmd)"
   ]
  },
  {
   "cell_type": "code",
   "execution_count": null,
   "metadata": {},
   "outputs": [],
   "source": []
  }
 ],
 "metadata": {
  "kernelspec": {
   "display_name": "Python 3",
   "language": "python",
   "name": "python3"
  },
  "language_info": {
   "codemirror_mode": {
    "name": "ipython",
    "version": 3
   },
   "file_extension": ".py",
   "mimetype": "text/x-python",
   "name": "python",
   "nbconvert_exporter": "python",
   "pygments_lexer": "ipython3",
   "version": "3.6.7"
  }
 },
 "nbformat": 4,
 "nbformat_minor": 4
}
